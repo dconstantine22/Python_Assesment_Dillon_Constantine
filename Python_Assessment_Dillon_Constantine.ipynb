{
 "cells": [
  {
   "cell_type": "markdown",
   "id": "4a5b2f62",
   "metadata": {},
   "source": [
    "# Python Assessment\n",
    "Dillon Constantine - Dillon.L.Constantine@aib.ie\n",
    "\n",
    "The aim of this code is to demonstrate the core learning outcomes of the Python Programming course.\n",
    " - Functions\n",
    " - Boolean-Logic (Loops & Conditions)\n",
    " - Data Structures\n",
    " - Object Oriented Programming\n",
    " - Handle Various Error messages & Exceptions."
   ]
  },
  {
   "cell_type": "markdown",
   "id": "326263d8",
   "metadata": {},
   "source": [
    "# Functions\n",
    "This part of the code demonstrates the creation and use of functions."
   ]
  },
  {
   "cell_type": "markdown",
   "id": "735b22b5",
   "metadata": {},
   "source": [
    "### Greeting Function"
   ]
  },
  {
   "cell_type": "code",
   "execution_count": 74,
   "id": "01a0c452",
   "metadata": {},
   "outputs": [
    {
     "name": "stdout",
     "output_type": "stream",
     "text": [
      "Enter your name: Dillon\n",
      "Hello Dillon and welcome to this Project!\n"
     ]
    }
   ],
   "source": [
    "def welcome():\n",
    "    name = input('Enter your name: ')\n",
    "    return f'Hello ' + name + ' and welcome to this Project!'\n",
    "    \n",
    "\n",
    "greeting = welcome()\n",
    "print(greeting)\n"
   ]
  },
  {
   "cell_type": "markdown",
   "id": "9143a589",
   "metadata": {},
   "source": [
    "### Calculation Function"
   ]
  },
  {
   "cell_type": "code",
   "execution_count": 75,
   "id": "830728a2",
   "metadata": {},
   "outputs": [
    {
     "name": "stdout",
     "output_type": "stream",
     "text": [
      "Returns the calculation of a, b and c.\n",
      "Sum: 70\n",
      "Returns the calculation of a, b and c.\n",
      "Sum: 1035000\n"
     ]
    }
   ],
   "source": [
    "def calculation (a, b, c):\n",
    "    'Returns the calculation of a, b and c.'\n",
    "    the_calculation = (a + b) * c\n",
    "    \n",
    "    return the_calculation\n",
    "\n",
    "\n",
    "# the function calculation() is reusable when it is provided with different arguments. \n",
    "calculation_1 = calculation(2, 5, 10)\n",
    "print(f'Sum: {calculation_1}')\n",
    "\n",
    "calculation_2 = calculation(150, 1000, 900)\n",
    "print(f'Sum: {calculation_2}')\n",
    "#help(add)"
   ]
  },
  {
   "cell_type": "markdown",
   "id": "9c4af86e",
   "metadata": {},
   "source": [
    "### Circle Circumference Function\n",
    "This function calculates the circumference of a circle based off the inputted radius."
   ]
  },
  {
   "cell_type": "code",
   "execution_count": 3,
   "id": "2e69a9f7",
   "metadata": {},
   "outputs": [
    {
     "name": "stdout",
     "output_type": "stream",
     "text": [
      "Enter the radius of the circle: 5\n",
      "Circumference = 31.42\n"
     ]
    }
   ],
   "source": [
    "# Circumfirence of a circle (user enters radius each time) \n",
    "# C = 2*π*r\n",
    "\n",
    "def circ_circum(rad):\n",
    "    return 2*(3.14159*rad)\n",
    "\n",
    "print('Enter the radius of the circle: ', end = '')\n",
    "radius = float(input())\n",
    "\n",
    "circum = circ_circum(radius)\n",
    "print('Circumference = {:.2f}'.format(circum))"
   ]
  },
  {
   "cell_type": "markdown",
   "id": "4f8ee960",
   "metadata": {},
   "source": [
    "### Bill Plus Service Calculation"
   ]
  },
  {
   "cell_type": "code",
   "execution_count": 43,
   "id": "71517a06",
   "metadata": {},
   "outputs": [
    {
     "data": {
      "text/plain": [
       "'Total plus Service charge is: €11.88'"
      ]
     },
     "execution_count": 43,
     "metadata": {},
     "output_type": "execute_result"
    }
   ],
   "source": [
    "# Function to Calculate Bill plus Tip with a defined 10% tip \n",
    "# This can be expanded using If Conditions later on. (Good Tip, Average Tip, Poor Tip)\n",
    "\n",
    "def bill_calc(bill_amount, tip_percent = 10):\n",
    "    total_bill = round(bill_amount*(1 + 0.01 * tip_percent),2)\n",
    "    \n",
    "    return f'Total plus Service charge is: €{total_bill}' \n",
    "    \n",
    "    \n",
    "bill_calc(10.80)\n"
   ]
  },
  {
   "cell_type": "code",
   "execution_count": 44,
   "id": "109254fd",
   "metadata": {},
   "outputs": [
    {
     "data": {
      "text/plain": [
       "'Total plus Service charge is: €220.12'"
      ]
     },
     "execution_count": 44,
     "metadata": {},
     "output_type": "execute_result"
    }
   ],
   "source": [
    "bill_calc(200.11)"
   ]
  },
  {
   "cell_type": "markdown",
   "id": "c9e93c15",
   "metadata": {},
   "source": [
    "### Even Number Check Function"
   ]
  },
  {
   "cell_type": "code",
   "execution_count": 6,
   "id": "48b0f8f7",
   "metadata": {
    "scrolled": true
   },
   "outputs": [
    {
     "name": "stdout",
     "output_type": "stream",
     "text": [
      "Enter a number: 3\n",
      "Number check: This number is Odd.\n"
     ]
    }
   ],
   "source": [
    "def even_num(num):\n",
    "    if num % 2 == 0:\n",
    "        return f'This number is Even!' \n",
    "    else:\n",
    "        return f'This number is Odd.'\n",
    "        \n",
    "print('Enter a number: ', end = '')\n",
    "number = int(input())\n",
    "\n",
    "num_check = even_num(number)\n",
    "print(f'Number check: {num_check}')"
   ]
  },
  {
   "cell_type": "markdown",
   "id": "92cc67a5",
   "metadata": {},
   "source": [
    "# Boolean Logic (Loops & Conditions)\n",
    "This Section of code demonstrates the use of boolean logic."
   ]
  },
  {
   "cell_type": "markdown",
   "id": "4afe378b",
   "metadata": {},
   "source": [
    "### Boolean Basic Operations"
   ]
  },
  {
   "cell_type": "code",
   "execution_count": 69,
   "id": "8c35476c",
   "metadata": {},
   "outputs": [
    {
     "name": "stdout",
     "output_type": "stream",
     "text": [
      "True\n",
      "False\n",
      "False\n",
      "True\n",
      "False\n"
     ]
    }
   ],
   "source": [
    "# AND Operator\n",
    "print(True and True)\n",
    "print(True and False)\n",
    "print(False and False)\n",
    "\n",
    "# OR Operator\n",
    "print(True or False)\n",
    "print(False or False)"
   ]
  },
  {
   "cell_type": "markdown",
   "id": "ab0630ab",
   "metadata": {},
   "source": [
    "### Conditions"
   ]
  },
  {
   "cell_type": "code",
   "execution_count": 51,
   "id": "581107ef",
   "metadata": {},
   "outputs": [
    {
     "name": "stdout",
     "output_type": "stream",
     "text": [
      "a and b are not equal!\n",
      "The difference is 3!\n"
     ]
    }
   ],
   "source": [
    "# Boolean Logic\n",
    "a = 2 * 3\n",
    "b = 5 + 4\n",
    "\n",
    "if (a == b):\n",
    "    print('a is equal to b.')\n",
    "    \n",
    "else:\n",
    "    diff = a - b\n",
    "    print('a and b are not equal.')\n",
    "    print(f'The difference is {abs(diff)}!')"
   ]
  },
  {
   "cell_type": "markdown",
   "id": "4a3bd7dd",
   "metadata": {},
   "source": [
    "#### Drinking Age Example:"
   ]
  },
  {
   "cell_type": "code",
   "execution_count": 55,
   "id": "dc4b5ea7",
   "metadata": {},
   "outputs": [
    {
     "name": "stdout",
     "output_type": "stream",
     "text": [
      "Enter your age: 8\n",
      "You are not old enought to consume Alcohol, please don't drink!\n"
     ]
    }
   ],
   "source": [
    "age = int(input('Enter your age: '))\n",
    "\n",
    "if age >= 18 and age < 21:\n",
    "    print('You are eligible to drink in Europe.')\n",
    "elif age >= 21:\n",
    "    print('You are eligible to drink in America and Europe.')\n",
    "else:\n",
    "    print(\"You are not old enought to consume Alcohol, please don't drink it!\")"
   ]
  },
  {
   "cell_type": "markdown",
   "id": "0a13c2cf",
   "metadata": {},
   "source": [
    "#### F1 Tyre type Example:"
   ]
  },
  {
   "cell_type": "code",
   "execution_count": 57,
   "id": "b208c077",
   "metadata": {},
   "outputs": [
    {
     "name": "stdout",
     "output_type": "stream",
     "text": [
      "Enter Your Tyre Type: HARD\n",
      "Hard Tyres being used currently. This tyre has a white sidewall.\n"
     ]
    }
   ],
   "source": [
    "tyre_type = input('Enter Your Tyre Type: ').lower()\n",
    "\n",
    "if (tyre_type == 'hard'):\n",
    "    print('Hard Tyres being used currently. This tyre has a white sidewall.')\n",
    "elif (tyre_type == 'medium'):\n",
    "    print('Medium tyres are being used currently. This tyre has a yellow sidewall.')\n",
    "elif (tyre_type == 'soft'):\n",
    "    print('Soft tyres are being used currently. This tyre has a red sidewall.')\n",
    "elif (tyre_type == 'intermediate'):\n",
    "    print('Intermediate tyres are being used currently. This tyre has a green sidewall.')\n",
    "elif (tyre_type == 'wet'):\n",
    "    print('Wet tyres are being used currently. This tyre has a blue sidewall.')\n",
    "else:\n",
    "    print('This is not a valid tyre used in F1 racing.')\n",
    "    "
   ]
  },
  {
   "cell_type": "markdown",
   "id": "9db1a080",
   "metadata": {},
   "source": [
    "### Loops"
   ]
  },
  {
   "cell_type": "code",
   "execution_count": 71,
   "id": "ffb72a79",
   "metadata": {},
   "outputs": [
    {
     "name": "stdout",
     "output_type": "stream",
     "text": [
      "1\n",
      "2\n",
      "3\n",
      "4\n",
      "5\n",
      "6\n",
      "7\n",
      "8\n",
      "9\n",
      "10\n"
     ]
    }
   ],
   "source": [
    "# Print out a range of numbers using a for loop.\n",
    "for n in range(1,11):\n",
    "    print(n)\n"
   ]
  },
  {
   "cell_type": "code",
   "execution_count": 72,
   "id": "d13e6fcf",
   "metadata": {},
   "outputs": [
    {
     "name": "stdout",
     "output_type": "stream",
     "text": [
      "Nike\n",
      "Adidas\n",
      "\n",
      "Apple found, loop terminated!\n"
     ]
    }
   ],
   "source": [
    "# Using the Break function to break out of the loop once an item is found. \n",
    "#If item not found loop is just carried out as normal.\n",
    "\n",
    "brands = ['Nike', 'Adidas', 'Apple', 'Samsung']\n",
    "\n",
    "for b in brands:\n",
    "    if b == 'Apple':\n",
    "        print('\\nApple found, loop terminated!')\n",
    "        break\n",
    "    print(b)\n",
    "else:\n",
    "    print('\\nList executed as item not found in list.')"
   ]
  },
  {
   "cell_type": "markdown",
   "id": "1264f258",
   "metadata": {},
   "source": [
    "# Data Structures\n",
    "This Section of the code demonstrates the understanding of Lists & Dictionaries."
   ]
  },
  {
   "cell_type": "markdown",
   "id": "269fe672",
   "metadata": {},
   "source": [
    "## Lists\n"
   ]
  },
  {
   "cell_type": "markdown",
   "id": "8bf6dda0",
   "metadata": {},
   "source": [
    "### String List"
   ]
  },
  {
   "cell_type": "code",
   "execution_count": 73,
   "id": "4b4a92c5",
   "metadata": {},
   "outputs": [
    {
     "name": "stdout",
     "output_type": "stream",
     "text": [
      "Initial List of Sports!\n",
      "['Hurling', 'Football', 'Tennis', 'Rugby', 'Golf']\n",
      "<class 'list'>\n",
      "Lenght of list: 5\n",
      "\n",
      "The 3rd sport in the list is Tennis\n",
      "['Hurling', 'Football', 'Tennis', 'Rugby', 'Ping Pong']\n"
     ]
    }
   ],
   "source": [
    "# List of Sports (String List)\n",
    "print('Initial List of Sports!')\n",
    "sports = ['Hurling', 'Football', 'Tennis', 'Rugby', 'Golf']\n",
    "print(sports)\n",
    "print(type(sports))\n",
    "print(f'Lenght of list: {len(sports)}')\n",
    "\n",
    "# Find the 3rd & Last sport in the list\n",
    "print('\\nThe 3rd sport in the list is ' + sports[2])\n",
    "\n",
    "# Change Golf to Ping Pong:\n",
    "sports[-1] = 'Ping Pong'\n",
    "print(sports)"
   ]
  },
  {
   "cell_type": "code",
   "execution_count": 9,
   "id": "37313fb1",
   "metadata": {},
   "outputs": [
    {
     "name": "stdout",
     "output_type": "stream",
     "text": [
      "\n",
      "List After Removal & Addition: \n",
      "['Hurling', 'Football', 'Tennis', 'Ping Pong', 'Gaelic Football']\n",
      "\n",
      "Sorted List of Sports (A-Z)\n",
      "['Football', 'Gaelic Football', 'Hurling', 'Ping Pong', 'Tennis']\n"
     ]
    }
   ],
   "source": [
    "# Adding and Removing from Lists.\n",
    "print('\\nList After Removal & Addition: ')\n",
    "sports.append('Gaelic Football')\n",
    "sports.remove('Rugby')\n",
    "print(sports)\n",
    "\n",
    "# Sorts list in Alpabetical order\n",
    "print('\\nSorted List of Sports (A-Z)')\n",
    "sports.sort()\n",
    "print(sports)"
   ]
  },
  {
   "cell_type": "markdown",
   "id": "a1b0e20a",
   "metadata": {},
   "source": [
    "### Number List"
   ]
  },
  {
   "cell_type": "code",
   "execution_count": 10,
   "id": "1ed5a48b",
   "metadata": {},
   "outputs": [
    {
     "name": "stdout",
     "output_type": "stream",
     "text": [
      "Initial Number List!\n",
      "[1, 2, 10, 16, 8, 9, 10, 5]\n",
      "\n",
      "Slicing Lists: \n",
      "[2, 10, 16]\n",
      "[8, 9, 10, 5]\n",
      "16\n",
      "1\n",
      "\n",
      "Sorted List: (Largest to Smallest)\n",
      "[16, 10, 10, 9, 8, 5, 2, 1]\n",
      "\n",
      "Number of times 10 appears in the list: 2\n"
     ]
    }
   ],
   "source": [
    "# Number List\n",
    "print('Initial Number List!')\n",
    "num_list = [1, 2, 10, 16, 8, 9, 10, 5]\n",
    "print(num_list)\n",
    "\n",
    "\n",
    "# Slicing a list\n",
    "print('\\nSlicing Lists: ')\n",
    "print(num_list[1:4]) # Returns 2 to 4 of the list. \n",
    "print(num_list[4:]) # Returns 4th item onwards.\n",
    "print(max(num_list)) # Gets highest number in list.\n",
    "print(min(num_list)) # Gets lowest number in list.\n",
    "\n",
    "# Sort Function.\n",
    "print('\\nSorted List: (Largest to Smallest)')\n",
    "num_list.sort(reverse = True)\n",
    "print(num_list)\n",
    "\n",
    "# Count function\n",
    "print(f'\\nNumber of times 10 appears in the list: {num_list.count(10)}')"
   ]
  },
  {
   "cell_type": "markdown",
   "id": "7f26f8a9",
   "metadata": {},
   "source": [
    "### Combining Lists"
   ]
  },
  {
   "cell_type": "code",
   "execution_count": 11,
   "id": "f355d0ac",
   "metadata": {},
   "outputs": [
    {
     "name": "stdout",
     "output_type": "stream",
     "text": [
      "Combining 2 lists (Num List & Sports List): \n",
      "[16, 10, 10, 9, 8, 5, 2, 1, 'Football', 'Gaelic Football', 'Hurling', 'Ping Pong', 'Tennis']\n"
     ]
    }
   ],
   "source": [
    "# Shows that lists can be combined.\n",
    "print('Combining 2 lists (Num List & Sports List): ')\n",
    "mixed = num_list + sports\n",
    "print(mixed)"
   ]
  },
  {
   "cell_type": "markdown",
   "id": "45a2de70",
   "metadata": {},
   "source": [
    "### Simple Nested List Example"
   ]
  },
  {
   "cell_type": "code",
   "execution_count": 12,
   "id": "e9944e66",
   "metadata": {},
   "outputs": [
    {
     "name": "stdout",
     "output_type": "stream",
     "text": [
      "\n",
      "Nested List: \n",
      "['Ear', 'Nose', 'Arm', ['Dec', 'Jan']]\n",
      "\n",
      "2nd Nest Returned:\n",
      "['Dec', 'Jan']\n",
      "\n",
      "3rd Level of nest Specific value:\n",
      "Dec\n"
     ]
    }
   ],
   "source": [
    "nest_list = [5, 6, ['Ear', 'Nose', 'Arm', ['Dec', 'Jan']], 10, 11]\n",
    "print('\\nNested List: ')\n",
    "print(nest_list[2])\n",
    "\n",
    "print('\\n2nd Nest Returned:')\n",
    "print(nest_list[2][3])\n",
    "\n",
    "print('\\n3rd Level of nest Specific value:')\n",
    "print(nest_list[2][3][0])"
   ]
  },
  {
   "cell_type": "markdown",
   "id": "728bbc88",
   "metadata": {},
   "source": [
    "## Dictionaries"
   ]
  },
  {
   "cell_type": "markdown",
   "id": "fee392a3",
   "metadata": {},
   "source": [
    "### First way to Create a Dictionary"
   ]
  },
  {
   "cell_type": "code",
   "execution_count": 13,
   "id": "3bdd3189",
   "metadata": {},
   "outputs": [
    {
     "name": "stdout",
     "output_type": "stream",
     "text": [
      "<class 'dict'>\n",
      "{'Dublin': 'St Vincents', 'Down': 'Kilcoo', 'Galway': 'Corofin', 'Kerry': 'Dr Crokes', 'Cork': 'Nemo Rangers', 'Mayo': 'Castlebar Mitchels'}\n",
      "\n",
      "\n",
      "St Vincents\n",
      "Castlebar Mitchels\n"
     ]
    }
   ],
   "source": [
    "# Creating a dictionary - GAA teams by County.\n",
    "gaa_teams = {'Dublin': 'St Vincents',\n",
    "             'Down': 'Kilcoo',\n",
    "             'Galway': 'Corofin',\n",
    "             'Kerry': 'Dr Crokes',\n",
    "             'Cork': 'Nemo Rangers',\n",
    "             'Mayo': 'Castlebar Mitchels'}\n",
    "\n",
    "print(type(gaa_teams))\n",
    "\n",
    "print(gaa_teams)\n",
    "print('\\n')\n",
    "\n",
    "# Access values in a Dictionary - Accsess Via Key (County)\n",
    "print(gaa_teams['Dublin'])\n",
    "print(gaa_teams['Mayo'])"
   ]
  },
  {
   "cell_type": "markdown",
   "id": "6c228e0e",
   "metadata": {},
   "source": [
    "### Second Way to Create a Dictionary."
   ]
  },
  {
   "cell_type": "code",
   "execution_count": 14,
   "id": "6f0b8280",
   "metadata": {},
   "outputs": [],
   "source": [
    "# Creating a dog dictionary:\n",
    "name = 'Obi'\n",
    "breed = 'Golden Retreiver'\n",
    "age = 2\n",
    "markings = 'blue tail'\n"
   ]
  },
  {
   "cell_type": "code",
   "execution_count": 15,
   "id": "58cf0853",
   "metadata": {},
   "outputs": [
    {
     "name": "stdout",
     "output_type": "stream",
     "text": [
      "{'name': 'Obi', 'breed': 'Golden Retreiver', 'age': 2, 'markings': 'blue tail'}\n"
     ]
    }
   ],
   "source": [
    "dog_dict = {'name': name, 'breed': breed, 'age': age, 'markings': markings}\n",
    "\n",
    "print(dog_dict)"
   ]
  },
  {
   "cell_type": "markdown",
   "id": "e21ab3ff",
   "metadata": {},
   "source": [
    "### Merging Dictionaries\n",
    "Demonstrates that it is possible to merge 2 dictiaries without affecting the original dictionaries."
   ]
  },
  {
   "cell_type": "code",
   "execution_count": 16,
   "id": "85e4bb6f",
   "metadata": {},
   "outputs": [
    {
     "name": "stdout",
     "output_type": "stream",
     "text": [
      "\n",
      "Copying Gaa Teams into new dictionary:\n",
      "{'Dublin': 'St Vincents', 'Down': 'Kilcoo', 'Galway': 'Corofin', 'Kerry': 'Dr Crokes', 'Cork': 'Nemo Rangers', 'Mayo': 'Castlebar Mitchels'}\n",
      "\n",
      "Dog & GAA Teams Dictionaries Merged:\n",
      "{'Dublin': 'St Vincents', 'Down': 'Kilcoo', 'Galway': 'Corofin', 'Kerry': 'Dr Crokes', 'Cork': 'Nemo Rangers', 'Mayo': 'Castlebar Mitchels', 'name': 'Obi', 'breed': 'Golden Retreiver', 'age': 2, 'markings': 'blue tail'}\n",
      "\n",
      "Pull info from the Merged Dictionary:\n",
      "Obi\n",
      "Kilcoo\n",
      "\n",
      "Remove Markings:\n",
      "{'Dublin': 'St Vincents', 'Down': 'Kilcoo', 'Galway': 'Corofin', 'Kerry': 'Dr Crokes', 'Cork': 'Nemo Rangers', 'Mayo': 'Castlebar Mitchels', 'name': 'Obi', 'breed': 'Golden Retreiver', 'age': 2}\n"
     ]
    }
   ],
   "source": [
    "# Taking a copy of the dictionary so as not to alter the original.\n",
    "merge = gaa_teams.copy()\n",
    "\n",
    "print('\\nCopying Gaa Teams into new dictionary:')\n",
    "print(merge)\n",
    "merge.update(dog_dict)\n",
    "\n",
    "print('\\nDog & GAA Teams Dictionaries Merged:')\n",
    "print(merge)\n",
    "\n",
    "# Get info from the merged data.\n",
    "print('\\nPull info from the Merged Dictionary:')\n",
    "print(merge['name'])\n",
    "print(merge['Down'])\n",
    "\n",
    "# Remove markings as no longer needed (Incorrect info).\n",
    "print('\\nRemove Markings:')\n",
    "merge.pop('markings')\n",
    "print(merge)"
   ]
  },
  {
   "cell_type": "markdown",
   "id": "249eecab",
   "metadata": {},
   "source": [
    "# Object Oriented Programming (OOP)\n",
    "This section of the code demonstrates an understanding of OOP."
   ]
  },
  {
   "cell_type": "markdown",
   "id": "7517cd82",
   "metadata": {},
   "source": [
    "### Class Creation"
   ]
  },
  {
   "cell_type": "code",
   "execution_count": 17,
   "id": "e4d83c8c",
   "metadata": {},
   "outputs": [],
   "source": [
    "\n",
    "class Car:\n",
    "    \n",
    "    def __init__(self, brand, model, colour, price):\n",
    "        self.brand = brand\n",
    "        self.model = model\n",
    "        self.colour = colour\n",
    "        self.price = price\n",
    "        self.battery = 100\n",
    "        \n",
    "        \n",
    "    def display(self):\n",
    "        print(f'Brand: {self.brand} \\nModel: {self.model} \\nColour:  {self.colour} \\nPrice: {self.price} \\nBattery: {self.battery}')\n",
    "        \n",
    "   \n",
    "    def drive(self):\n",
    "        self.battery = self.battery - 10\n",
    "        if self.battery < 0:\n",
    "            self.battery = 0 # Battery Charge cant drop below 0%.\n",
    "                    \n",
    "    def air_conditioning(self):\n",
    "        self.battery = self.battery - 1\n",
    "        if self.battery < 0:\n",
    "            self.battery = 0 # Battery Charge cant drop below 0%.\n",
    "                    \n",
    "    def charge(self):\n",
    "        self.battery = self.battery + 20\n",
    "        if self.battery > 100:\n",
    "            self.battery = 100 # Battery Charge cant go above 100%.\n",
    "                    \n",
    "    def crash(self):\n",
    "        self.price = self.price - 5000\n",
    "    \n",
    "        \n",
    "    def repair(self):\n",
    "        self.price = self.price + 1500\n",
    "        \n",
    "    def respray(self, new_colour):\n",
    "        self.colour = new_colour\n",
    "           \n",
    " "
   ]
  },
  {
   "cell_type": "markdown",
   "id": "08249105",
   "metadata": {},
   "source": [
    "### Creating Objects of the Class"
   ]
  },
  {
   "cell_type": "code",
   "execution_count": 18,
   "id": "8c3038f4",
   "metadata": {
    "scrolled": true
   },
   "outputs": [
    {
     "name": "stdout",
     "output_type": "stream",
     "text": [
      "New Car:\n",
      "Brand: Volvo \n",
      "Model: V40 \n",
      "Colour:  Grey \n",
      "Price: 25000 \n",
      "Battery: 100\n",
      "\n",
      "Car After some time:\n",
      "Brand: Volvo \n",
      "Model: V40 \n",
      "Colour:  Grey \n",
      "Price: 21500 \n",
      "Battery: 80\n"
     ]
    }
   ],
   "source": [
    "print('New Car:')\n",
    "car_1 = Car('Volvo', 'V40', 'Grey', 25000)\n",
    "car_1.display()\n",
    "\n",
    "\n",
    "car_1.drive()\n",
    "car_1.drive()\n",
    "car_1.drive()\n",
    "car_1.drive()\n",
    "car_1.drive()\n",
    "car_1.drive()\n",
    "car_1.charge()\n",
    "car_1.crash()\n",
    "car_1.drive()\n",
    "car_1.drive()\n",
    "car_1.repair()\n",
    "car_1.charge()\n",
    "car_1.charge()\n",
    "\n",
    "\n",
    "print('\\nCar After some time:')\n",
    "car_1.display()"
   ]
  },
  {
   "cell_type": "code",
   "execution_count": 19,
   "id": "014c1b89",
   "metadata": {},
   "outputs": [
    {
     "name": "stdout",
     "output_type": "stream",
     "text": [
      "New Car:\n",
      "Brand: Ford \n",
      "Model: Focus \n",
      "Colour:  Red \n",
      "Price: 18500 \n",
      "Battery: 100\n",
      "\n",
      "Car After some time:\n",
      "Brand: Ford \n",
      "Model: Focus \n",
      "Colour:  White \n",
      "Price: 13500 \n",
      "Battery: 70\n"
     ]
    }
   ],
   "source": [
    "print('New Car:')\n",
    "car_2 = Car('Ford', 'Focus', 'Red', 18500)\n",
    "car_2.display()\n",
    "\n",
    "car_2.drive()\n",
    "car_2.drive()\n",
    "car_2.crash()\n",
    "car_2.respray('White')\n",
    "car_2.drive()\n",
    "\n",
    "print('\\nCar After some time:')\n",
    "car_2.display()"
   ]
  },
  {
   "cell_type": "code",
   "execution_count": 20,
   "id": "628236af",
   "metadata": {},
   "outputs": [
    {
     "name": "stdout",
     "output_type": "stream",
     "text": [
      "New Car:\n",
      "Brand: Kia \n",
      "Model: Sportage \n",
      "Colour:  Black \n",
      "Price: 32500 \n",
      "Battery: 100\n",
      "\n",
      "Car After some time:\n",
      "Brand: Kia \n",
      "Model: Sportage \n",
      "Colour:  Black \n",
      "Price: 32500 \n",
      "Battery: 20\n"
     ]
    }
   ],
   "source": [
    "print('New Car:')\n",
    "car_3 = Car('Kia', 'Sportage', 'Black', 32500)\n",
    "car_3.display()\n",
    "\n",
    "car_3.drive()\n",
    "car_3.drive()\n",
    "car_3.drive()\n",
    "car_3.drive()\n",
    "car_3.drive()\n",
    "car_3.drive()\n",
    "car_3.drive()\n",
    "car_3.drive()\n",
    "car_3.drive()\n",
    "car_3.drive()\n",
    "car_3.drive()\n",
    "car_3.charge()\n",
    "\n",
    "\n",
    "print('\\nCar After some time:')\n",
    "car_3.display()"
   ]
  },
  {
   "cell_type": "markdown",
   "id": "989df5ea",
   "metadata": {},
   "source": [
    "# Exception Handling\n",
    "This section of the code demonstrates an understanding of Exception Handling."
   ]
  },
  {
   "cell_type": "code",
   "execution_count": 70,
   "id": "26efc79a",
   "metadata": {},
   "outputs": [
    {
     "name": "stdout",
     "output_type": "stream",
     "text": [
      "Enter a number to divide 100 by: 0\n",
      "Enter a 2nd Number to Add on: 7\n",
      "Error occuread, Cannot divide by Zero (0)\n"
     ]
    }
   ],
   "source": [
    "try:\n",
    "    n = input('Enter a number to divide 100 by: ')\n",
    "    n = int(n)\n",
    "    x = input('Enter a 2nd Number to Add on: ')\n",
    "    x = float(x)\n",
    "    result = (100/n) + x\n",
    "except ValueError:\n",
    "    print('Incorrect input, Please enter a real number.')\n",
    "except ZeroDivisionError:\n",
    "    print('Error occured, Cannot divide by Zero (0), issue with the first number entered.')\n",
    "else:\n",
    "    print(result)"
   ]
  },
  {
   "cell_type": "code",
   "execution_count": 54,
   "id": "58e9dfd0",
   "metadata": {},
   "outputs": [
    {
     "name": "stdout",
     "output_type": "stream",
     "text": [
      "{'Dublin': 'St Vincents', 'Down': 'Kilcoo', 'Galway': 'Corofin', 'Kerry': 'Dr Crokes', 'Cork': 'Nemo Rangers', 'Mayo': 'Castlebar Mitchels'}\n",
      "\n",
      "\n",
      "There is no team in the dictionary from the location you are searching.\n",
      "Please try again.\n"
     ]
    }
   ],
   "source": [
    "# Exception Handling on the dictionary example.\n",
    "print(gaa_teams)\n",
    "print('\\n')\n",
    "\n",
    "try:\n",
    "    team_check = gaa_teams['London']\n",
    "    \n",
    "except KeyError:\n",
    "    print('There is no team in the dictionary from the location you are searching.')\n",
    "    print('Please try again.')\n",
    "else:\n",
    "    print(f'Team Found: {team_check}.')"
   ]
  }
 ],
 "metadata": {
  "kernelspec": {
   "display_name": "Python 3 (ipykernel)",
   "language": "python",
   "name": "python3"
  },
  "language_info": {
   "codemirror_mode": {
    "name": "ipython",
    "version": 3
   },
   "file_extension": ".py",
   "mimetype": "text/x-python",
   "name": "python",
   "nbconvert_exporter": "python",
   "pygments_lexer": "ipython3",
   "version": "3.9.7"
  }
 },
 "nbformat": 4,
 "nbformat_minor": 5
}
